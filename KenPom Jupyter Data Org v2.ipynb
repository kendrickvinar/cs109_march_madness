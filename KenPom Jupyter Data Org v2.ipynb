{
 "cells": [
  {
   "cell_type": "code",
   "execution_count": 1,
   "metadata": {
    "collapsed": true
   },
   "outputs": [],
   "source": [
    "import numpy as np\n",
    "import pandas as pd\n",
    "import scipy as sp\n",
    "from sklearn.linear_model import LinearRegression as Lin_Reg\n",
    "from sklearn import linear_model\n",
    "import matplotlib.pyplot as plt\n",
    "from sklearn import discriminant_analysis\n",
    "from sklearn.decomposition import PCA\n",
    "from sklearn import preprocessing\n",
    "from sklearn import tree\n",
    "from sklearn import ensemble\n",
    "from sklearn.cross_validation import KFold\n",
    "from sklearn.cross_validation import train_test_split\n",
    "import StringIO\n",
    "from sklearn.linear_model import LogisticRegression\n",
    "import matplotlib\n",
    "import matplotlib.pyplot as plt\n",
    "\n",
    "import numpy as np\n",
    "import pandas as pd\n",
    "import scipy as sp\n",
    "import itertools as it\n",
    "from sklearn import preprocessing\n",
    "from sklearn import discriminant_analysis\n",
    "from sklearn.cross_validation import KFold\n",
    "from sklearn.decomposition import PCA\n",
    "from sklearn.linear_model import LogisticRegression\n",
    "from sklearn.discriminant_analysis import LinearDiscriminantAnalysis as LDA\n",
    "from sklearn.discriminant_analysis import QuadraticDiscriminantAnalysis as QDA\n",
    "from sklearn.neighbors import KNeighborsClassifier as KNN\n",
    "from sklearn.tree import DecisionTreeClassifier as DecisionTree\n",
    "from sklearn.ensemble import RandomForestClassifier as RandomForest\n",
    "from sklearn.svm import SVC\n",
    "from sklearn.cross_validation import train_test_split\n",
    "from sklearn import ensemble\n",
    "from sklearn import svm\n",
    "import matplotlib\n",
    "from mpl_toolkits.mplot3d import Axes3D\n",
    "import matplotlib.pyplot as plt\n",
    "%matplotlib inline\n",
    "\n",
    "%matplotlib inline"
   ]
  },
  {
   "cell_type": "code",
   "execution_count": 2,
   "metadata": {
    "collapsed": false
   },
   "outputs": [],
   "source": [
    "# read in all of the data: regular season compact, regular season detailed, seasons, teams\n",
    "# tourney compact, tourney detailed, tourney seeds, tourney slots \n",
    "regcompact = pd.read_csv(\"RegularSeasonCompactResults.csv\")\n",
    "regdetailed = pd.read_csv(\"RegularSeasonDetailedResults.csv\")\n",
    "seasons = pd.read_csv(\"Seasons.csv\")\n",
    "teams = pd.read_csv(\"Teams.csv\")\n",
    "tourneycompact = pd.read_csv(\"TourneyCompactResults.csv\")\n",
    "tourneydetailed = pd.read_csv(\"TourneyDetailedResults.csv\")\n",
    "tourneyseeds = pd.read_csv(\"TourneySeeds.csv\")\n",
    "tourneyslots = pd.read_csv(\"TourneySlots.csv\")\n",
    "kenpom = pd.read_csv(\"KenPomCSV.csv\")\n",
    "\n"
   ]
  },
  {
   "cell_type": "code",
   "execution_count": 3,
   "metadata": {
    "collapsed": true
   },
   "outputs": [],
   "source": [
    "# Create an ID for the winning and losing teams in the regular detailed and tourney detailed \n",
    "\n",
    "regdetailed['WteamID'] = regdetailed['Wteam'].map(str) + regdetailed['Season'].map(str)\n",
    "regdetailed['LteamID'] = regdetailed['Lteam'].map(str) + regdetailed['Season'].map(str)\n",
    "\n",
    "tourneydetailed['WteamID'] = tourneydetailed['Wteam'].map(str) + tourneydetailed['Season'].map(str)\n",
    "tourneydetailed['LteamID'] = tourneydetailed['Lteam'].map(str) + tourneydetailed['Season'].map(str)"
   ]
  },
  {
   "cell_type": "code",
   "execution_count": 4,
   "metadata": {
    "collapsed": false
   },
   "outputs": [
    {
     "name": "stdout",
     "output_type": "stream",
     "text": [
      "     TeamName  Year              ID    Tempo  RankTempo  AdjTempo  \\\n",
      "0        Duke  2002        Duke2002  78.6982          6   77.6765   \n",
      "1  Cincinnati  2002  Cincinnati2002  68.7626        201   68.7952   \n",
      "2    Maryland  2002    Maryland2002  75.4652         20   74.7618   \n",
      "\n",
      "   RankAdjTempo       OE  RankOE    AdjOE  RankAdjOE       DE  RankDE  \\\n",
      "0             5  115.544       2  118.671          1  89.8718       4   \n",
      "1           206  111.852      14  115.077          7  86.0312       1   \n",
      "2            20  113.028       6  116.170          5  94.0118      35   \n",
      "\n",
      "     AdjDE  RankAdjDE       EM  RankEM  \n",
      "0  85.7040          2  32.9668       1  \n",
      "1  85.3609          1  29.7164       2  \n",
      "2  89.1643         11  27.0056       3  \n"
     ]
    }
   ],
   "source": [
    "# just check out the layout\n",
    "\n",
    "print kenpom.head(n=3)"
   ]
  },
  {
   "cell_type": "code",
   "execution_count": 5,
   "metadata": {
    "collapsed": false
   },
   "outputs": [],
   "source": [
    "# Add the Seed for Each Team\n",
    "\n",
    "for i in range(0,len(tourneydetailed)):\n",
    "\n",
    "    tourneydetailed.ix[i,\"LKen_Name\"] = teams['Ken_Name'][teams['Team_Id']==tourneydetailed.ix[i,'Lteam']].values[0]\n",
    "    tourneydetailed.ix[i,\"WKen_Name\"] = teams['Ken_Name'][teams['Team_Id']==tourneydetailed.ix[i,'Wteam']].values[0]"
   ]
  },
  {
   "cell_type": "code",
   "execution_count": 6,
   "metadata": {
    "collapsed": true
   },
   "outputs": [],
   "source": [
    "# there were two names that changed over the years\n",
    "\n",
    "tourneydetailed.ix[32,\"LKen_Name\"] = \"Troy St.\"\n",
    "tourneydetailed.ix[647,\"LKen_Name\"] = \"Middle Tennessee\"\n"
   ]
  },
  {
   "cell_type": "code",
   "execution_count": 7,
   "metadata": {
    "collapsed": false
   },
   "outputs": [],
   "source": [
    "# merge the kenpom data with the tournament data \n",
    "\n",
    "for i in range(0,len(tourneydetailed)):\n",
    "    tourneydetailed.ix[i,\"LKen\"] = kenpom['EM'][(kenpom['TeamName']==tourneydetailed.ix[i,'LKen_Name']) & (kenpom['Year']==tourneydetailed.ix[i,'Season'])].values[0]\n",
    "    tourneydetailed.ix[i,\"WKen\"] = kenpom['EM'][(kenpom['TeamName']==tourneydetailed.ix[i,'WKen_Name']) & (kenpom['Year']==tourneydetailed.ix[i,'Season'])].values[0]\n",
    "    \n",
    "    tourneydetailed.ix[i,\"LAdjDE\"] = kenpom['AdjDE'][(kenpom['TeamName']==tourneydetailed.ix[i,'LKen_Name']) & (kenpom['Year']==tourneydetailed.ix[i,'Season'])].values[0]\n",
    "    tourneydetailed.ix[i,\"WAdjDE\"] = kenpom['AdjDE'][(kenpom['TeamName']==tourneydetailed.ix[i,'WKen_Name']) & (kenpom['Year']==tourneydetailed.ix[i,'Season'])].values[0]\n",
    "    \n",
    "    tourneydetailed.ix[i,\"LAdjOE\"] = kenpom['AdjOE'][(kenpom['TeamName']==tourneydetailed.ix[i,'LKen_Name']) & (kenpom['Year']==tourneydetailed.ix[i,'Season'])].values[0]\n",
    "    tourneydetailed.ix[i,\"WAdjOE\"] = kenpom['AdjOE'][(kenpom['TeamName']==tourneydetailed.ix[i,'WKen_Name']) & (kenpom['Year']==tourneydetailed.ix[i,'Season'])].values[0]\n",
    "    \n",
    "    tourneydetailed.ix[i,\"LTempo\"] = kenpom['AdjTempo'][(kenpom['TeamName']==tourneydetailed.ix[i,'LKen_Name']) & (kenpom['Year']==tourneydetailed.ix[i,'Season'])].values[0]\n",
    "    tourneydetailed.ix[i,\"WTempo\"] = kenpom['AdjTempo'][(kenpom['TeamName']==tourneydetailed.ix[i,'WKen_Name']) & (kenpom['Year']==tourneydetailed.ix[i,'Season'])].values[0]\n",
    "    \n",
    "    tourneydetailed.ix[i,\"LDERank\"] = kenpom['RankAdjDE'][(kenpom['TeamName']==tourneydetailed.ix[i,'LKen_Name']) & (kenpom['Year']==tourneydetailed.ix[i,'Season'])].values[0]\n",
    "    tourneydetailed.ix[i,\"WDERank\"] = kenpom['RankAdjDE'][(kenpom['TeamName']==tourneydetailed.ix[i,'WKen_Name']) & (kenpom['Year']==tourneydetailed.ix[i,'Season'])].values[0]\n",
    "    \n",
    "    tourneydetailed.ix[i,\"LOERank\"] = kenpom['RankAdjOE'][(kenpom['TeamName']==tourneydetailed.ix[i,'LKen_Name']) & (kenpom['Year']==tourneydetailed.ix[i,'Season'])].values[0]\n",
    "    tourneydetailed.ix[i,\"WOERank\"] = kenpom['RankAdjOE'][(kenpom['TeamName']==tourneydetailed.ix[i,'WKen_Name']) & (kenpom['Year']==tourneydetailed.ix[i,'Season'])].values[0]\n",
    "    \n",
    "    "
   ]
  },
  {
   "cell_type": "code",
   "execution_count": 8,
   "metadata": {
    "collapsed": true
   },
   "outputs": [],
   "source": [
    "# Create a Team_ID for the tourneyseed\n",
    "\n",
    "tourneyseeds['Team_Id'] = tourneyseeds['Team'].map(str) + tourneyseeds['Season'].map(str)"
   ]
  },
  {
   "cell_type": "code",
   "execution_count": 9,
   "metadata": {
    "collapsed": true
   },
   "outputs": [],
   "source": [
    "# Add the Seed for Each Team\n",
    "\n",
    "for i in range(0,len(tourneydetailed)):\n",
    "\n",
    "    tourneydetailed.ix[i,\"LSeed\"] = tourneyseeds['Seed'][tourneyseeds['Team_Id']==tourneydetailed.ix[i,'LteamID']].values[0]\n",
    "    tourneydetailed.ix[i,\"WSeed\"] = tourneyseeds['Seed'][tourneyseeds['Team_Id']==tourneydetailed.ix[i,'WteamID']].values[0]\n",
    "    \n",
    "    "
   ]
  },
  {
   "cell_type": "code",
   "execution_count": 10,
   "metadata": {
    "collapsed": true
   },
   "outputs": [],
   "source": [
    "# Get the No. seed from the total seed \n",
    "\n",
    "for i in range(0,len(tourneydetailed)):\n",
    "    if (len(tourneydetailed.ix[i,\"WSeed\"])==3):\n",
    "        tourneydetailed.ix[i,\"WSeedNum\"] = int(tourneydetailed.ix[i,\"WSeed\"][-2:])\n",
    "    else: \n",
    "        tourneydetailed.ix[i,\"WSeedNum\"] = int(tourneydetailed.ix[i,\"WSeed\"][1:3])\n",
    "    if (len(tourneydetailed.ix[i,\"LSeed\"])==3):\n",
    "        tourneydetailed.ix[i,\"LSeedNum\"] = int(tourneydetailed.ix[i,\"LSeed\"][-2:])\n",
    "    else: \n",
    "        tourneydetailed.ix[i,\"LSeedNum\"] = int(tourneydetailed.ix[i,\"LSeed\"][1:3])"
   ]
  },
  {
   "cell_type": "code",
   "execution_count": 11,
   "metadata": {
    "collapsed": true
   },
   "outputs": [],
   "source": [
    "# some of these are the \"play-in\" games (like 16 vs. 16). just making a note of those\n",
    "\n",
    "for i in range(0,len(tourneydetailed)):\n",
    "    if (tourneydetailed.ix[i,\"WSeed\"][0:3]==tourneydetailed.ix[i,\"LSeed\"][0:3]):\n",
    "        tourneydetailed.ix[i,\"Play-In\"] = 1\n",
    "    else:\n",
    "        tourneydetailed.ix[i,\"Play-In\"] = 0"
   ]
  },
  {
   "cell_type": "code",
   "execution_count": 12,
   "metadata": {
    "collapsed": false
   },
   "outputs": [],
   "source": [
    "# calculate how many field goals they assist on \n",
    "\n",
    "regdetailed['Wastratio'] = regdetailed['Wast'] / regdetailed['Wfgm']\n",
    "regdetailed['Lastratio'] = regdetailed['Last'] / regdetailed['Lfgm']"
   ]
  },
  {
   "cell_type": "code",
   "execution_count": 13,
   "metadata": {
    "collapsed": true
   },
   "outputs": [],
   "source": [
    "# calculate dr rate\n",
    "\n",
    "regdetailed['Wdrratio'] = 1 / ((regdetailed['Lfga'] - regdetailed['Lfgm']) / regdetailed['Wdr'])\n",
    "regdetailed['Ldrratio'] = 1 / ((regdetailed['Wfga'] - regdetailed['Wfgm']) / regdetailed['Ldr'])"
   ]
  },
  {
   "cell_type": "code",
   "execution_count": 14,
   "metadata": {
    "collapsed": true
   },
   "outputs": [],
   "source": [
    "# calculate or rate \n",
    "\n",
    "regdetailed['Worratio'] = 1 / ((regdetailed['Wfga'] - regdetailed['Wfgm']) / regdetailed['Wor'])\n",
    "regdetailed['Lorratio'] = 1 / ((regdetailed['Lfga'] - regdetailed['Lfgm']) / regdetailed['Lor'])"
   ]
  },
  {
   "cell_type": "code",
   "execution_count": 15,
   "metadata": {
    "collapsed": false
   },
   "outputs": [],
   "source": [
    "# calculate point diff\n",
    "\n",
    "regdetailed['ptdiff'] = ((regdetailed['Wscore'] - regdetailed['Lscore']))"
   ]
  },
  {
   "cell_type": "code",
   "execution_count": 16,
   "metadata": {
    "collapsed": false
   },
   "outputs": [],
   "source": [
    "# calc 2pt fg %, 3pt fg %\n",
    "\n",
    "regdetailed['W2fgper'] = (regdetailed['Wfgm'] - regdetailed['Wfgm3']) / (regdetailed['Wfga'] - regdetailed['Wfga3'])\n",
    "regdetailed['W3fgper'] = (regdetailed['Wfgm3'] / regdetailed['Wfga3'])\n",
    "\n",
    "regdetailed['L2fgper'] = (regdetailed['Lfgm'] - regdetailed['Lfgm3']) / (regdetailed['Lfga'] - regdetailed['Lfga3'])\n",
    "regdetailed['L3fgper'] = (regdetailed['Lfgm3'] / regdetailed['Lfga3'])"
   ]
  },
  {
   "cell_type": "code",
   "execution_count": 17,
   "metadata": {
    "collapsed": false
   },
   "outputs": [],
   "source": [
    "for i in range(0,len(tourneydetailed)):\n",
    "    if (tourneydetailed.ix[i,\"Play-In\"]==1):\n",
    "        tourneydetailed.ix[i,'round'] = 0\n",
    "    elif ((tourneydetailed.ix[i,\"Daynum\"]==136) or (tourneydetailed.ix[i,\"Daynum\"]==137)):\n",
    "        tourneydetailed.ix[i,'round'] = 1\n",
    "    elif ((tourneydetailed.ix[i,\"Daynum\"]==138) or (tourneydetailed.ix[i,\"Daynum\"]==139)):\n",
    "        tourneydetailed.ix[i,'round'] = 2\n",
    "    elif ((tourneydetailed.ix[i,\"Daynum\"]==143) or (tourneydetailed.ix[i,\"Daynum\"]==144)):\n",
    "        tourneydetailed.ix[i,'round'] = 3\n",
    "    elif ((tourneydetailed.ix[i,\"Daynum\"]==145) or (tourneydetailed.ix[i,\"Daynum\"]==146)):\n",
    "        tourneydetailed.ix[i,'round'] = 4\n",
    "    elif (tourneydetailed.ix[i,\"Daynum\"]==152):\n",
    "        tourneydetailed.ix[i,'round'] = 5\n",
    "    elif (tourneydetailed.ix[i,\"Daynum\"]==154):\n",
    "        tourneydetailed.ix[i,'round'] = 6\n",
    "\n",
    "    "
   ]
  },
  {
   "cell_type": "code",
   "execution_count": 18,
   "metadata": {
    "collapsed": false
   },
   "outputs": [],
   "source": [
    "# dont worry about this for now\n",
    "\n",
    "def simple_ranking_system(year):\n",
    "    ranking_array = pd.DataFrame(np.zeros((len(regdetailed[regdetailed['Season']==year]),365)))\n",
    "    for i in range(0,len(regdetailed[regdetailed['Season']==year])):\n",
    "        ranking_array.iloc[i,regdetailed.ix[i,'Wteam']-1101] = 1\n",
    "        ranking_array.iloc[i,regdetailed.ix[i,'Lteam']-1101] = -1\n",
    "        # ranking_array.iloc[i,364] = regdetailed.ix[i,'ptdiff']\n",
    "        ranking_array.iloc[i,364] = 1\n",
    "    regression = Lin_Reg()\n",
    "    regression.fit(ranking_array.iloc[:,range(1,364)],ranking_array.iloc[:,364])\n",
    "    return np.append(regression.intercept_, regression.coef_)\n",
    "        \n",
    "    "
   ]
  },
  {
   "cell_type": "code",
   "execution_count": 19,
   "metadata": {
    "collapsed": false
   },
   "outputs": [],
   "source": [
    "# calculate the wins and losses for each team\n",
    "\n",
    "wins_each_year = pd.DataFrame(np.zeros((14,364)))\n",
    "losses_each_year = pd.DataFrame(np.zeros((14,364)))\n",
    "\n",
    "for i in range(2003,2017):\n",
    "    for j in range(1101,1465):\n",
    "        wins_each_year.iloc[i-2003,j-1101] = len(regdetailed[(regdetailed['Wteam']==j) & (regdetailed['Season']==i)])\n",
    "        losses_each_year.iloc[i-2003,j-1101] = len(regdetailed[(regdetailed['Lteam']==j) & (regdetailed['Season']==i)])\n",
    "\n"
   ]
  },
  {
   "cell_type": "code",
   "execution_count": 20,
   "metadata": {
    "collapsed": false
   },
   "outputs": [],
   "source": [
    "# use this as a key to bring statistics into a prediction matrix\n",
    "\n",
    "winstats = ['Wscore', 'W2fgper', 'W3fgper','Wfta','Wor','Wdr','Wast','Wto','Wstl','Wblk','Wpf','Wastratio','Wdrratio','Worratio','Lscore', 'L2fgper', 'L3fgper','Lfta','Lor','Ldr','Last','Lto','Lstl','Lblk','Lpf','Lastratio','Ldrratio','Lorratio']\n",
    "losestats = ['Lscore', 'L2fgper', 'L3fgper','Lfta','Lor','Ldr','Last','Lto','Lstl','Lblk','Lpf','Lastratio','Ldrratio','Lorratio','Wscore', 'W2fgper', 'W3fgper','Wfta','Wor','Wdr','Wast','Wto','Wstl','Wblk','Wpf','Wastratio','Wdrratio','Worratio']\n",
    "col_names = ['scorefor','2fgperfor', '3fgperfor','ftafor','orfor','drfor','astfor','tofor','stlfor','blkfor','pffor','astratiofor','drratiofor','orratiofor','scoreag','2fgperag', '3fgperag','ftaag','orag','drag','astag','toag','stlag','blkag','pfag','astratioag','drratioag','orratioag']\n",
    "\n",
    "d = {'winstats': winstats, 'losestats': losestats,'col_names': col_names}\n",
    "key = pd.DataFrame(data=d)\n",
    "\n"
   ]
  },
  {
   "cell_type": "code",
   "execution_count": 21,
   "metadata": {
    "collapsed": false
   },
   "outputs": [],
   "source": [
    "# accumulate reg season stats of winner, loser\n",
    "\n",
    "new_tourney_stats_winner = pd.DataFrame(np.zeros((len(tourneydetailed),28)))\n",
    "new_tourney_stats_loser = pd.DataFrame(np.zeros((len(tourneydetailed),28)))\n",
    "\n",
    "for i in range(0,len(new_tourney_stats_winner)):\n",
    "    for j in range(0,28):\n",
    "        new_tourney_stats_winner.iloc[i,j] = np.mean(np.append(regdetailed[key.iloc[j,2]]\n",
    "                                            [(regdetailed['Wteam']==tourneydetailed.ix[i,'Wteam']) & \n",
    "                                           (regdetailed['Season']==tourneydetailed.ix[i,'Season'])],\n",
    "                                            regdetailed[key.iloc[j,1]]\n",
    "                                            [(regdetailed['Lteam']==tourneydetailed.ix[i,'Wteam']) & \n",
    "                                           (regdetailed['Season']==tourneydetailed.ix[i,'Season'])]))\n",
    "\n",
    "for i in range(0,len(new_tourney_stats_loser)):\n",
    "    for j in range(0,28):\n",
    "        new_tourney_stats_loser.iloc[i,j] = np.mean(np.append(regdetailed[key.iloc[j,2]]\n",
    "                                            [(regdetailed['Wteam']==tourneydetailed.ix[i,'Lteam']) & \n",
    "                                           (regdetailed['Season']==tourneydetailed.ix[i,'Season'])],\n",
    "                                            regdetailed[key.iloc[j,1]]\n",
    "                                            [(regdetailed['Lteam']==tourneydetailed.ix[i,'Lteam']) & \n",
    "                                           (regdetailed['Season']==tourneydetailed.ix[i,'Season'])]))\n"
   ]
  },
  {
   "cell_type": "code",
   "execution_count": 27,
   "metadata": {
    "collapsed": false
   },
   "outputs": [],
   "source": [
    "# we want to determine failures and successes. Therefore, we will call a game a success if the higher ranked team wins \n",
    "# so, we have to reorganize data from winning seed and losing seed to high seed and low seed\n",
    "\n",
    "prediction_matrix = pd.DataFrame(np.zeros((len(tourneydetailed),71)))\n",
    "\n",
    "for i in range(0,len(tourneydetailed)):\n",
    "    if(tourneydetailed.ix[i,\"WSeedNum\"] > tourneydetailed.ix[i,\"LSeedNum\"]):\n",
    "        x = pd.concat([new_tourney_stats_loser.iloc[i,:], pd.Series(tourneydetailed.ix[i,'LKen'])\n",
    "                       ,pd.Series(tourneydetailed.ix[i,'LAdjOE']),\n",
    "                       pd.Series(tourneydetailed.ix[i,'LAdjDE']),pd.Series(tourneydetailed.ix[i,'LTempo']),\n",
    "                       pd.Series(tourneydetailed.ix[i,'LDERank']),pd.Series(tourneydetailed.ix[i,'LOERank']),\n",
    "                       new_tourney_stats_winner.iloc[i,:],\n",
    "                       pd.Series(tourneydetailed.ix[i,'WKen']),pd.Series(tourneydetailed.ix[i,'WAdjOE']),\n",
    "                       pd.Series(tourneydetailed.ix[i,'WAdjDE']),pd.Series(tourneydetailed.ix[i,'WTempo']),\n",
    "                       pd.Series(tourneydetailed.ix[i,'WDERank']),pd.Series(tourneydetailed.ix[i,'WOERank']),\n",
    "                       pd.Series(tourneydetailed.ix[i,'LSeedNum']),pd.Series(tourneydetailed.ix[i,'WSeedNum']),pd.Series(tourneydetailed.ix[i,'round'])], axis=0)\n",
    "        prediction_matrix.iloc[i,:] = np.array(x)\n",
    "        # prediction_matrix.iloc[i,range(0,28)] = new_tourney_stats_loser.iloc[i,:]\n",
    "        # prediction_matrix.iloc[i,range(28,56)] = new_tourney_stats_winner.iloc[i,:]\n",
    "        # prediction_matrix.iloc[i,56] = tourneydetailed.ix[i,'LSeedNum']\n",
    "        # prediction_matrix.iloc[i,57] = tourneydetailed.ix[i,'WSeedNum']\n",
    "    else:\n",
    "        x = pd.concat([new_tourney_stats_winner.iloc[i,:], \n",
    "               pd.Series(tourneydetailed.ix[i,'WKen']),pd.Series(tourneydetailed.ix[i,'WAdjOE']),\n",
    "               pd.Series(tourneydetailed.ix[i,'WAdjDE']),pd.Series(tourneydetailed.ix[i,'WTempo']),\n",
    "                pd.Series(tourneydetailed.ix[i,'WDERank']),pd.Series(tourneydetailed.ix[i,'WOERank']),\n",
    "               new_tourney_stats_loser.iloc[i,:],\n",
    "               pd.Series(tourneydetailed.ix[i,'LKen']),pd.Series(tourneydetailed.ix[i,'LAdjOE']),\n",
    "               pd.Series(tourneydetailed.ix[i,'LAdjDE']),pd.Series(tourneydetailed.ix[i,'LTempo']),\n",
    "                pd.Series(tourneydetailed.ix[i,'LDERank']),pd.Series(tourneydetailed.ix[i,'LOERank']),\n",
    "               pd.Series(tourneydetailed.ix[i,'WSeedNum']),pd.Series(tourneydetailed.ix[i,'LSeedNum']),pd.Series(tourneydetailed.ix[i,'round'])], axis=0)\n",
    "        prediction_matrix.iloc[i,:] = np.array(x)\n",
    "        # prediction_matrix.iloc[i,range(0,28)] = new_tourney_stats_winner.iloc[i,:]\n",
    "        # prediction_matrix.iloc[i,range(28,56)] = new_tourney_stats_loser.iloc[i,:]\n",
    "        # prediction_matrix.iloc[i,56] = tourneydetailed.ix[i,'WSeedNum']\n",
    "        # prediction_matrix.iloc[i,57] = tourneydetailed.ix[i,'LSeedNum']\n",
    "    \n",
    "\n",
    "prediction_matrix.cols = ['team1scorefor','team12fgperfor', 'team13fgperfor','team1ftafor','team1orfor','team1drfor','team1astfor','team1tofor','team1stlfor','team1blkfor','team1pffor','team1astratiofor','team1drratiofor','team1orratiofor','team1scoreag','team12fgperag', 'team13fgperag','team1ftaag','team1orag','team1drag','team1astag','team1toag','team1stlag','team1blkag','team1pfag','team1astratioag','team1drratioag','team1orratioag','team1ken', 'team1kenoe','team1kende', 'team1kentempo','team1drank','team1orank','team2scorefor','team22fgperfor', 'team23fgperfor','team2ftafor','team2orfor','team2drfor','team2astfor','team2tofor','team2stlfor','team2blkfor','team2pffor','team2astratiofor','team2drratiofor','team2orratiofor','team2scoreag','team22fgperag', 'team23fgperag','team2ftaag','team2orag','team2drag','team2astag','team2toag','team2stlag','team2blkag','team2pfag','team2astratioag','team2drratioag','team2orratioag','team2ken', 'team2kenoe','team2kende', 'team2kentempo','team2drank','team2orank','team1seed','team2seed','round']\n",
    "\n",
    "#prediction_matrix = pd.DataFrame(prediction_matrix, columns=new_cols)    \n",
    "    # this is for classification\n",
    "    \n",
    "prediction_answers =pd.DataFrame(np.zeros((len(tourneydetailed),1)))  \n",
    "for i in range(0,len(tourneydetailed)):\n",
    "    if(tourneydetailed.ix[i,\"WSeedNum\"]<tourneydetailed.ix[i,\"LSeedNum\"]):\n",
    "        prediction_answers.iloc[i,0] = 1\n",
    "        \n",
    "# this is for point differential\n",
    "        \n",
    "prediction_answers2 =pd.DataFrame(np.zeros((len(tourneydetailed),1)))  \n",
    "for i in range(0,len(tourneydetailed)):\n",
    "    if(tourneydetailed.ix[i,\"WSeedNum\"]<tourneydetailed.ix[i,\"LSeedNum\"]):\n",
    "        prediction_answers2.iloc[i,0] = tourneydetailed.ix[i,\"Wscore\"] - tourneydetailed.ix[i,\"Lscore\"]\n",
    "    else:\n",
    "        prediction_answers2.iloc[i,0] = tourneydetailed.ix[i,\"Lscore\"] - tourneydetailed.ix[i,\"Wscore\"]"
   ]
  },
  {
   "cell_type": "code",
   "execution_count": null,
   "metadata": {
    "collapsed": true
   },
   "outputs": [],
   "source": []
  },
  {
   "cell_type": "code",
   "execution_count": 28,
   "metadata": {
    "collapsed": false
   },
   "outputs": [],
   "source": [
    "# run a train / test to split data\n",
    "\n",
    "# x_train, x_test, y_train_val, y_test_val = train_test_split(prediction_matrix[tourneydetailed[\"Play-In\"]==0], np.array(prediction_answers[tourneydetailed[\"Play-In\"]==0]), test_size=0.85)\n",
    "x_train = prediction_matrix[(tourneydetailed[\"Play-In\"]==0) & (tourneydetailed[\"Season\"] < 2014)]\n",
    "x_test = prediction_matrix[(tourneydetailed[\"Play-In\"]==0) & (tourneydetailed[\"Season\"] > 2013)]\n",
    "y_train_val = prediction_answers[(tourneydetailed[\"Play-In\"]==0) & (tourneydetailed[\"Season\"] < 2014)]\n",
    "\n",
    "y_test_val = prediction_answers[(tourneydetailed[\"Play-In\"]==0) & (tourneydetailed[\"Season\"] > 2013)]"
   ]
  },
  {
   "cell_type": "code",
   "execution_count": 29,
   "metadata": {
    "collapsed": false
   },
   "outputs": [
    {
     "name": "stdout",
     "output_type": "stream",
     "text": [
      "The DT classifier produces a score of  0.55\n",
      "The RF classifier produces a score of  0.65\n",
      "The LDA classifier produces a score of  0.69\n",
      "The QDA classifier produces a score of  0.7\n"
     ]
    },
    {
     "name": "stderr",
     "output_type": "stream",
     "text": [
      "/Users/kendrickvinar/anaconda/lib/python2.7/site-packages/ipykernel/__main__.py:8: DataConversionWarning: A column-vector y was passed when a 1d array was expected. Please change the shape of y to (n_samples,), for example using ravel().\n",
      "/Users/kendrickvinar/anaconda/lib/python2.7/site-packages/sklearn/utils/validation.py:515: DataConversionWarning: A column-vector y was passed when a 1d array was expected. Please change the shape of y to (n_samples, ), for example using ravel().\n",
      "  y = column_or_1d(y, warn=True)\n",
      "/Users/kendrickvinar/anaconda/lib/python2.7/site-packages/sklearn/discriminant_analysis.py:387: UserWarning: Variables are collinear.\n",
      "  warnings.warn(\"Variables are collinear.\")\n",
      "/Users/kendrickvinar/anaconda/lib/python2.7/site-packages/sklearn/utils/validation.py:515: DataConversionWarning: A column-vector y was passed when a 1d array was expected. Please change the shape of y to (n_samples, ), for example using ravel().\n",
      "  y = column_or_1d(y, warn=True)\n",
      "/Users/kendrickvinar/anaconda/lib/python2.7/site-packages/sklearn/svm/base.py:514: DataConversionWarning: A column-vector y was passed when a 1d array was expected. Please change the shape of y to (n_samples, ), for example using ravel().\n",
      "  y_ = column_or_1d(y, warn=True)\n"
     ]
    },
    {
     "name": "stdout",
     "output_type": "stream",
     "text": [
      "The SVM classifier produces a score of  0.71\n",
      "The LogReg classifier produces a score of  0.72\n",
      "The KNN classifier produces a score of  0.7\n"
     ]
    },
    {
     "name": "stderr",
     "output_type": "stream",
     "text": [
      "/Users/kendrickvinar/anaconda/lib/python2.7/site-packages/sklearn/utils/validation.py:515: DataConversionWarning: A column-vector y was passed when a 1d array was expected. Please change the shape of y to (n_samples, ), for example using ravel().\n",
      "  y = column_or_1d(y, warn=True)\n",
      "/Users/kendrickvinar/anaconda/lib/python2.7/site-packages/ipykernel/__main__.py:31: DataConversionWarning: A column-vector y was passed when a 1d array was expected. Please change the shape of y to (n_samples, ), for example using ravel().\n"
     ]
    }
   ],
   "source": [
    "from sklearn import tree\n",
    "\n",
    "dt = tree.DecisionTreeClassifier()\n",
    "dt.fit(x_train,y_train_val)\n",
    "print \"The DT classifier produces a score of \", round(dt.score(x_test, y_test_val),2)\n",
    "\n",
    "rf = ensemble.RandomForestClassifier()\n",
    "rf.fit(x_train,y_train_val)\n",
    "print \"The RF classifier produces a score of \", round(rf.score(x_test, y_test_val),2)\n",
    "\n",
    "# lda fit and score\n",
    "\n",
    "lda = discriminant_analysis.LinearDiscriminantAnalysis()\n",
    "lda.fit(x_train,y_train_val)\n",
    "print \"The LDA classifier produces a score of \", round(lda.score(x_test, y_test_val),2)\n",
    "\n",
    "qda = discriminant_analysis.QuadraticDiscriminantAnalysis()\n",
    "qda.fit(x_train,y_train_val)\n",
    "print \"The QDA classifier produces a score of \", round(qda.score(x_test, y_test_val),2)\n",
    "\n",
    "# Fit SVM model \n",
    "svm_model = svm.SVC()\n",
    "svm_model.fit(x_train,y_train_val)\n",
    "print \"The SVM classifier produces a score of \", round(svm_model.score(x_test, y_test_val),2)\n",
    "\n",
    "logistic_balanced = LogisticRegression()\n",
    "logistic_balanced.fit(x_train,y_train_val)\n",
    "print \"The LogReg classifier produces a score of \", round(logistic_balanced.score(x_test, y_test_val),2)\n",
    "\n",
    "neighbors = KNN(4)\n",
    "neighbors.fit(x_train,y_train_val)\n",
    "print \"The KNN classifier produces a score of \", round(neighbors.score(x_test, y_test_val),2)"
   ]
  },
  {
   "cell_type": "code",
   "execution_count": 30,
   "metadata": {
    "collapsed": false
   },
   "outputs": [
    {
     "name": "stdout",
     "output_type": "stream",
     "text": [
      "The DT classifier produces a score of  0.56\n"
     ]
    },
    {
     "name": "stderr",
     "output_type": "stream",
     "text": [
      "/Users/kendrickvinar/anaconda/lib/python2.7/site-packages/ipykernel/__main__.py:12: DataConversionWarning: A column-vector y was passed when a 1d array was expected. Please change the shape of y to (n_samples,), for example using ravel().\n"
     ]
    },
    {
     "name": "stdout",
     "output_type": "stream",
     "text": [
      "The RF classifier produces a score of  0.67\n"
     ]
    },
    {
     "name": "stderr",
     "output_type": "stream",
     "text": [
      "/Users/kendrickvinar/anaconda/lib/python2.7/site-packages/sklearn/utils/validation.py:515: DataConversionWarning: A column-vector y was passed when a 1d array was expected. Please change the shape of y to (n_samples, ), for example using ravel().\n",
      "  y = column_or_1d(y, warn=True)\n"
     ]
    },
    {
     "name": "stdout",
     "output_type": "stream",
     "text": [
      "The LDA classifier produces a score of  0.6\n"
     ]
    },
    {
     "name": "stderr",
     "output_type": "stream",
     "text": [
      "/Users/kendrickvinar/anaconda/lib/python2.7/site-packages/sklearn/utils/validation.py:515: DataConversionWarning: A column-vector y was passed when a 1d array was expected. Please change the shape of y to (n_samples, ), for example using ravel().\n",
      "  y = column_or_1d(y, warn=True)\n",
      "/Users/kendrickvinar/anaconda/lib/python2.7/site-packages/sklearn/discriminant_analysis.py:688: UserWarning: Variables are collinear\n",
      "  warnings.warn(\"Variables are collinear\")\n"
     ]
    },
    {
     "name": "stdout",
     "output_type": "stream",
     "text": [
      "The QDA classifier produces a score of  0.67\n"
     ]
    },
    {
     "name": "stderr",
     "output_type": "stream",
     "text": [
      "/Users/kendrickvinar/anaconda/lib/python2.7/site-packages/sklearn/svm/base.py:514: DataConversionWarning: A column-vector y was passed when a 1d array was expected. Please change the shape of y to (n_samples, ), for example using ravel().\n",
      "  y_ = column_or_1d(y, warn=True)\n"
     ]
    },
    {
     "name": "stdout",
     "output_type": "stream",
     "text": [
      "The SVM classifier produces a score of  0.71\n"
     ]
    },
    {
     "name": "stderr",
     "output_type": "stream",
     "text": [
      "/Users/kendrickvinar/anaconda/lib/python2.7/site-packages/sklearn/utils/validation.py:515: DataConversionWarning: A column-vector y was passed when a 1d array was expected. Please change the shape of y to (n_samples, ), for example using ravel().\n",
      "  y = column_or_1d(y, warn=True)\n"
     ]
    },
    {
     "name": "stdout",
     "output_type": "stream",
     "text": [
      "The LogReg classifier produces a score of  0.61\n",
      "The KNN classifier produces a score of "
     ]
    },
    {
     "name": "stderr",
     "output_type": "stream",
     "text": [
      "/Users/kendrickvinar/anaconda/lib/python2.7/site-packages/ipykernel/__main__.py:35: DataConversionWarning: A column-vector y was passed when a 1d array was expected. Please change the shape of y to (n_samples, ), for example using ravel().\n"
     ]
    },
    {
     "name": "stdout",
     "output_type": "stream",
     "text": [
      " 0.73\n"
     ]
    }
   ],
   "source": [
    "from sklearn.preprocessing import PolynomialFeatures\n",
    "\n",
    "x_train_int = PolynomialFeatures(2, interaction_only=True, include_bias=False).fit_transform(x_train)\n",
    "x_test_int = PolynomialFeatures(2, interaction_only=True, include_bias=False).fit_transform(x_test)\n",
    "\n",
    "\n",
    "dt = tree.DecisionTreeClassifier(max_depth = 10)\n",
    "dt.fit(x_train_int,y_train_val)\n",
    "print \"The DT classifier produces a score of \", round(dt.score(x_test_int, y_test_val),2)\n",
    "\n",
    "rf = ensemble.RandomForestClassifier()\n",
    "rf.fit(x_train_int,y_train_val)\n",
    "print \"The RF classifier produces a score of \", round(rf.score(x_test_int, y_test_val),2)\n",
    "\n",
    "# lda fit and score\n",
    "\n",
    "lda = discriminant_analysis.LinearDiscriminantAnalysis()\n",
    "lda.fit(x_train_int,y_train_val)\n",
    "print \"The LDA classifier produces a score of \", round(lda.score(x_test_int, y_test_val),2)\n",
    "\n",
    "qda = discriminant_analysis.QuadraticDiscriminantAnalysis()\n",
    "qda.fit(x_train_int,y_train_val)\n",
    "print \"The QDA classifier produces a score of \", round(qda.score(x_test_int, y_test_val),2)\n",
    "\n",
    "# Fit SVM model \n",
    "svm_model = svm.SVC()\n",
    "svm_model.fit(x_train_int,y_train_val)\n",
    "print \"The SVM classifier produces a score of \", round(svm_model.score(x_test_int, y_test_val),2)\n",
    "\n",
    "logistic_balanced = LogisticRegression()\n",
    "logistic_balanced.fit(x_train_int,y_train_val)\n",
    "print \"The LogReg classifier produces a score of \", round(logistic_balanced.score(x_test_int, y_test_val),2)\n",
    "\n",
    "neighbors = KNN(4)\n",
    "neighbors.fit(x_train_int,y_train_val)\n",
    "print \"The KNN classifier produces a score of \", round(neighbors.score(x_test_int, y_test_val),2)"
   ]
  },
  {
   "cell_type": "code",
   "execution_count": 31,
   "metadata": {
    "collapsed": false
   },
   "outputs": [
    {
     "name": "stderr",
     "output_type": "stream",
     "text": [
      "/Users/kendrickvinar/anaconda/lib/python2.7/site-packages/sklearn/linear_model/coordinate_descent.py:466: ConvergenceWarning: Objective did not converge. You might want to increase the number of iterations\n",
      "  ConvergenceWarning)\n"
     ]
    }
   ],
   "source": [
    "from sklearn.linear_model import Lasso as Lasso_Reg\n",
    "\n",
    "reg = Lasso_Reg()\n",
    "reg.fit(x_train_int, y_train_val)\n",
    "coefficients = reg.coef_"
   ]
  },
  {
   "cell_type": "code",
   "execution_count": 32,
   "metadata": {
    "collapsed": false
   },
   "outputs": [
    {
     "ename": "NameError",
     "evalue": "name 'non_zeros' is not defined",
     "output_type": "error",
     "traceback": [
      "\u001b[0;31m---------------------------------------------------------------------------\u001b[0m",
      "\u001b[0;31mNameError\u001b[0m                                 Traceback (most recent call last)",
      "\u001b[0;32m<ipython-input-32-17ba9a97cd54>\u001b[0m in \u001b[0;36m<module>\u001b[0;34m()\u001b[0m\n\u001b[1;32m      2\u001b[0m \u001b[0mx_test_int\u001b[0m \u001b[0;34m=\u001b[0m \u001b[0mpd\u001b[0m\u001b[0;34m.\u001b[0m\u001b[0mDataFrame\u001b[0m\u001b[0;34m(\u001b[0m\u001b[0mx_test_int\u001b[0m\u001b[0;34m)\u001b[0m\u001b[0;34m\u001b[0m\u001b[0m\n\u001b[1;32m      3\u001b[0m \u001b[0;34m\u001b[0m\u001b[0m\n\u001b[0;32m----> 4\u001b[0;31m \u001b[0mx_train_trim\u001b[0m \u001b[0;34m=\u001b[0m \u001b[0mx_train_int\u001b[0m\u001b[0;34m.\u001b[0m\u001b[0miloc\u001b[0m\u001b[0;34m[\u001b[0m\u001b[0;34m:\u001b[0m\u001b[0;34m,\u001b[0m\u001b[0mnon_zeros\u001b[0m\u001b[0;34m]\u001b[0m\u001b[0;34m\u001b[0m\u001b[0m\n\u001b[0m\u001b[1;32m      5\u001b[0m \u001b[0mx_test_trim\u001b[0m \u001b[0;34m=\u001b[0m \u001b[0mx_test_int\u001b[0m\u001b[0;34m.\u001b[0m\u001b[0miloc\u001b[0m\u001b[0;34m[\u001b[0m\u001b[0;34m:\u001b[0m\u001b[0;34m,\u001b[0m\u001b[0mnon_zeros\u001b[0m\u001b[0;34m]\u001b[0m\u001b[0;34m\u001b[0m\u001b[0m\n\u001b[1;32m      6\u001b[0m \u001b[0;34m\u001b[0m\u001b[0m\n",
      "\u001b[0;31mNameError\u001b[0m: name 'non_zeros' is not defined"
     ]
    }
   ],
   "source": [
    "x_train_int = pd.DataFrame(x_train_int)\n",
    "x_test_int = pd.DataFrame(x_test_int)\n",
    "\n",
    "x_train_trim = x_train_int.iloc[:,non_zeros]\n",
    "x_test_trim = x_test_int.iloc[:,non_zeros]\n",
    "\n",
    "# print the column names \n",
    "\n",
    "x_train_trim.columns.values"
   ]
  },
  {
   "cell_type": "code",
   "execution_count": 33,
   "metadata": {
    "collapsed": false
   },
   "outputs": [
    {
     "ename": "NameError",
     "evalue": "name 'x_train_trim' is not defined",
     "output_type": "error",
     "traceback": [
      "\u001b[0;31m---------------------------------------------------------------------------\u001b[0m",
      "\u001b[0;31mNameError\u001b[0m                                 Traceback (most recent call last)",
      "\u001b[0;32m<ipython-input-33-ba632a65157a>\u001b[0m in \u001b[0;36m<module>\u001b[0;34m()\u001b[0m\n\u001b[1;32m      6\u001b[0m \u001b[0;34m\u001b[0m\u001b[0m\n\u001b[1;32m      7\u001b[0m \u001b[0mdt\u001b[0m \u001b[0;34m=\u001b[0m \u001b[0mtree\u001b[0m\u001b[0;34m.\u001b[0m\u001b[0mDecisionTreeClassifier\u001b[0m\u001b[0;34m(\u001b[0m\u001b[0mmax_depth\u001b[0m \u001b[0;34m=\u001b[0m \u001b[0;36m10\u001b[0m\u001b[0;34m)\u001b[0m\u001b[0;34m\u001b[0m\u001b[0m\n\u001b[0;32m----> 8\u001b[0;31m \u001b[0mdt\u001b[0m\u001b[0;34m.\u001b[0m\u001b[0mfit\u001b[0m\u001b[0;34m(\u001b[0m\u001b[0mx_train_trim\u001b[0m\u001b[0;34m,\u001b[0m\u001b[0my_train_val\u001b[0m\u001b[0;34m)\u001b[0m\u001b[0;34m\u001b[0m\u001b[0m\n\u001b[0m\u001b[1;32m      9\u001b[0m \u001b[0;32mprint\u001b[0m \u001b[0;34m\"The DT classifier produces a score of \"\u001b[0m\u001b[0;34m,\u001b[0m \u001b[0mround\u001b[0m\u001b[0;34m(\u001b[0m\u001b[0mdt\u001b[0m\u001b[0;34m.\u001b[0m\u001b[0mscore\u001b[0m\u001b[0;34m(\u001b[0m\u001b[0mx_test_trim\u001b[0m\u001b[0;34m,\u001b[0m \u001b[0my_test_val\u001b[0m\u001b[0;34m)\u001b[0m\u001b[0;34m,\u001b[0m\u001b[0;36m2\u001b[0m\u001b[0;34m)\u001b[0m\u001b[0;34m\u001b[0m\u001b[0m\n\u001b[1;32m     10\u001b[0m \u001b[0;34m\u001b[0m\u001b[0m\n",
      "\u001b[0;31mNameError\u001b[0m: name 'x_train_trim' is not defined"
     ]
    }
   ],
   "source": [
    "from sklearn.preprocessing import PolynomialFeatures\n",
    "\n",
    "x_train_int = PolynomialFeatures(2, interaction_only=True, include_bias=False).fit_transform(x_train)\n",
    "x_test_int = PolynomialFeatures(2, interaction_only=True, include_bias=False).fit_transform(x_test)\n",
    "\n",
    "\n",
    "dt = tree.DecisionTreeClassifier(max_depth = 10)\n",
    "dt.fit(x_train_trim,y_train_val)\n",
    "print \"The DT classifier produces a score of \", round(dt.score(x_test_trim, y_test_val),2)\n",
    "\n",
    "rf = ensemble.RandomForestClassifier()\n",
    "rf.fit(x_train_trim,y_train_val)\n",
    "print \"The RF classifier produces a score of \", round(rf.score(x_test_trim, y_test_val),2)\n",
    "\n",
    "# lda fit and score\n",
    "\n",
    "lda = discriminant_analysis.LinearDiscriminantAnalysis()\n",
    "lda.fit(x_train_trim,y_train_val)\n",
    "print \"The LDA classifier produces a score of \", round(lda.score(x_test_trim, y_test_val),2)\n",
    "\n",
    "qda = discriminant_analysis.QuadraticDiscriminantAnalysis()\n",
    "qda.fit(x_train_trim,y_train_val)\n",
    "print \"The QDA classifier produces a score of \", round(qda.score(x_test_trim, y_test_val),2)\n",
    "\n",
    "# Fit SVM model \n",
    "svm_model = svm.SVC()\n",
    "svm_model.fit(x_train_trim,y_train_val)\n",
    "print \"The SVM classifier produces a score of \", round(svm_model.score(x_test_trim, y_test_val),2)\n",
    "\n",
    "logistic_balanced = LogisticRegression()\n",
    "logistic_balanced.fit(x_train_trim,y_train_val)\n",
    "print \"The LogReg classifier produces a score of \", round(logistic_balanced.score(x_test_trim, y_test_val),2)\n",
    "\n",
    "neighbors = KNN(4)\n",
    "neighbors.fit(x_train_trim,y_train_val)\n",
    "print \"The KNN classifier produces a score of \", round(neighbors.score(x_test_trim, y_test_val),2)"
   ]
  },
  {
   "cell_type": "code",
   "execution_count": 34,
   "metadata": {
    "collapsed": false
   },
   "outputs": [
    {
     "name": "stderr",
     "output_type": "stream",
     "text": [
      "/Users/kendrickvinar/anaconda/lib/python2.7/site-packages/ipykernel/__main__.py:8: DataConversionWarning: A column-vector y was passed when a 1d array was expected. Please change the shape of y to (n_samples,), for example using ravel().\n",
      "/Users/kendrickvinar/anaconda/lib/python2.7/site-packages/sklearn/utils/validation.py:515: DataConversionWarning: A column-vector y was passed when a 1d array was expected. Please change the shape of y to (n_samples, ), for example using ravel().\n",
      "  y = column_or_1d(y, warn=True)\n"
     ]
    },
    {
     "name": "stdout",
     "output_type": "stream",
     "text": [
      "The RF classifier produces a score of  0.72\n",
      "The DT classifier produces a score of  0.63\n",
      "The LogReg classifier produces a score of  0.6\n",
      "The LDA classifier produces a score of  0.71\n",
      "The QDA classifier produces a score of  0.71\n",
      "The SVM classifier produces a score of  0.71\n",
      "The KNN classifier produces a score of  0.59\n"
     ]
    },
    {
     "name": "stderr",
     "output_type": "stream",
     "text": [
      "/Users/kendrickvinar/anaconda/lib/python2.7/site-packages/sklearn/utils/validation.py:515: DataConversionWarning: A column-vector y was passed when a 1d array was expected. Please change the shape of y to (n_samples, ), for example using ravel().\n",
      "  y = column_or_1d(y, warn=True)\n",
      "/Users/kendrickvinar/anaconda/lib/python2.7/site-packages/sklearn/utils/validation.py:515: DataConversionWarning: A column-vector y was passed when a 1d array was expected. Please change the shape of y to (n_samples, ), for example using ravel().\n",
      "  y = column_or_1d(y, warn=True)\n",
      "/Users/kendrickvinar/anaconda/lib/python2.7/site-packages/sklearn/svm/base.py:514: DataConversionWarning: A column-vector y was passed when a 1d array was expected. Please change the shape of y to (n_samples, ), for example using ravel().\n",
      "  y_ = column_or_1d(y, warn=True)\n",
      "/Users/kendrickvinar/anaconda/lib/python2.7/site-packages/ipykernel/__main__.py:33: DataConversionWarning: A column-vector y was passed when a 1d array was expected. Please change the shape of y to (n_samples, ), for example using ravel().\n",
      "/Users/kendrickvinar/anaconda/lib/python2.7/site-packages/ipykernel/__main__.py:8: DataConversionWarning: A column-vector y was passed when a 1d array was expected. Please change the shape of y to (n_samples,), for example using ravel().\n"
     ]
    },
    {
     "name": "stdout",
     "output_type": "stream",
     "text": [
      "The RF classifier produces a score of  0.66\n",
      "The DT classifier produces a score of  0.59\n",
      "The LogReg classifier produces a score of  0.57\n",
      "The LDA classifier produces a score of  0.71\n",
      "The QDA classifier produces a score of  0.64\n",
      "The SVM classifier produces a score of  0.71\n",
      "The KNN classifier produces a score of  0.64\n"
     ]
    },
    {
     "name": "stderr",
     "output_type": "stream",
     "text": [
      "/Users/kendrickvinar/anaconda/lib/python2.7/site-packages/sklearn/utils/validation.py:515: DataConversionWarning: A column-vector y was passed when a 1d array was expected. Please change the shape of y to (n_samples, ), for example using ravel().\n",
      "  y = column_or_1d(y, warn=True)\n",
      "/Users/kendrickvinar/anaconda/lib/python2.7/site-packages/sklearn/utils/validation.py:515: DataConversionWarning: A column-vector y was passed when a 1d array was expected. Please change the shape of y to (n_samples, ), for example using ravel().\n",
      "  y = column_or_1d(y, warn=True)\n",
      "/Users/kendrickvinar/anaconda/lib/python2.7/site-packages/sklearn/utils/validation.py:515: DataConversionWarning: A column-vector y was passed when a 1d array was expected. Please change the shape of y to (n_samples, ), for example using ravel().\n",
      "  y = column_or_1d(y, warn=True)\n",
      "/Users/kendrickvinar/anaconda/lib/python2.7/site-packages/sklearn/svm/base.py:514: DataConversionWarning: A column-vector y was passed when a 1d array was expected. Please change the shape of y to (n_samples, ), for example using ravel().\n",
      "  y_ = column_or_1d(y, warn=True)\n",
      "/Users/kendrickvinar/anaconda/lib/python2.7/site-packages/ipykernel/__main__.py:33: DataConversionWarning: A column-vector y was passed when a 1d array was expected. Please change the shape of y to (n_samples, ), for example using ravel().\n",
      "/Users/kendrickvinar/anaconda/lib/python2.7/site-packages/ipykernel/__main__.py:8: DataConversionWarning: A column-vector y was passed when a 1d array was expected. Please change the shape of y to (n_samples,), for example using ravel().\n"
     ]
    },
    {
     "name": "stdout",
     "output_type": "stream",
     "text": [
      "The RF classifier produces a score of  0.57\n",
      "The DT classifier produces a score of  0.63\n",
      "The LogReg classifier produces a score of  0.58\n",
      "The LDA classifier produces a score of  0.71\n",
      "The QDA classifier produces a score of  0.67\n",
      "The SVM classifier produces a score of  0.71\n",
      "The KNN classifier produces a score of  0.65\n"
     ]
    },
    {
     "name": "stderr",
     "output_type": "stream",
     "text": [
      "/Users/kendrickvinar/anaconda/lib/python2.7/site-packages/sklearn/utils/validation.py:515: DataConversionWarning: A column-vector y was passed when a 1d array was expected. Please change the shape of y to (n_samples, ), for example using ravel().\n",
      "  y = column_or_1d(y, warn=True)\n",
      "/Users/kendrickvinar/anaconda/lib/python2.7/site-packages/sklearn/utils/validation.py:515: DataConversionWarning: A column-vector y was passed when a 1d array was expected. Please change the shape of y to (n_samples, ), for example using ravel().\n",
      "  y = column_or_1d(y, warn=True)\n",
      "/Users/kendrickvinar/anaconda/lib/python2.7/site-packages/sklearn/utils/validation.py:515: DataConversionWarning: A column-vector y was passed when a 1d array was expected. Please change the shape of y to (n_samples, ), for example using ravel().\n",
      "  y = column_or_1d(y, warn=True)\n",
      "/Users/kendrickvinar/anaconda/lib/python2.7/site-packages/sklearn/svm/base.py:514: DataConversionWarning: A column-vector y was passed when a 1d array was expected. Please change the shape of y to (n_samples, ), for example using ravel().\n",
      "  y_ = column_or_1d(y, warn=True)\n",
      "/Users/kendrickvinar/anaconda/lib/python2.7/site-packages/ipykernel/__main__.py:33: DataConversionWarning: A column-vector y was passed when a 1d array was expected. Please change the shape of y to (n_samples, ), for example using ravel().\n",
      "/Users/kendrickvinar/anaconda/lib/python2.7/site-packages/ipykernel/__main__.py:8: DataConversionWarning: A column-vector y was passed when a 1d array was expected. Please change the shape of y to (n_samples,), for example using ravel().\n"
     ]
    },
    {
     "name": "stdout",
     "output_type": "stream",
     "text": [
      "The RF classifier produces a score of  0.7\n",
      "The DT classifier produces a score of  0.65\n",
      "The LogReg classifier produces a score of  0.58\n",
      "The LDA classifier produces a score of  0.71\n",
      "The QDA classifier produces a score of  0.61\n",
      "The SVM classifier produces a score of  0.71\n",
      "The KNN classifier produces a score of  0.73\n"
     ]
    },
    {
     "name": "stderr",
     "output_type": "stream",
     "text": [
      "/Users/kendrickvinar/anaconda/lib/python2.7/site-packages/sklearn/utils/validation.py:515: DataConversionWarning: A column-vector y was passed when a 1d array was expected. Please change the shape of y to (n_samples, ), for example using ravel().\n",
      "  y = column_or_1d(y, warn=True)\n",
      "/Users/kendrickvinar/anaconda/lib/python2.7/site-packages/sklearn/utils/validation.py:515: DataConversionWarning: A column-vector y was passed when a 1d array was expected. Please change the shape of y to (n_samples, ), for example using ravel().\n",
      "  y = column_or_1d(y, warn=True)\n",
      "/Users/kendrickvinar/anaconda/lib/python2.7/site-packages/sklearn/utils/validation.py:515: DataConversionWarning: A column-vector y was passed when a 1d array was expected. Please change the shape of y to (n_samples, ), for example using ravel().\n",
      "  y = column_or_1d(y, warn=True)\n",
      "/Users/kendrickvinar/anaconda/lib/python2.7/site-packages/sklearn/svm/base.py:514: DataConversionWarning: A column-vector y was passed when a 1d array was expected. Please change the shape of y to (n_samples, ), for example using ravel().\n",
      "  y_ = column_or_1d(y, warn=True)\n",
      "/Users/kendrickvinar/anaconda/lib/python2.7/site-packages/ipykernel/__main__.py:33: DataConversionWarning: A column-vector y was passed when a 1d array was expected. Please change the shape of y to (n_samples, ), for example using ravel().\n",
      "/Users/kendrickvinar/anaconda/lib/python2.7/site-packages/ipykernel/__main__.py:8: DataConversionWarning: A column-vector y was passed when a 1d array was expected. Please change the shape of y to (n_samples,), for example using ravel().\n"
     ]
    },
    {
     "name": "stdout",
     "output_type": "stream",
     "text": [
      "The RF classifier produces a score of  0.61\n",
      "The DT classifier produces a score of  0.56\n",
      "The LogReg classifier produces a score of  0.58\n",
      "The LDA classifier produces a score of  0.68\n",
      "The QDA classifier produces a score of  0.6\n",
      "The SVM classifier produces a score of  0.71\n",
      "The KNN classifier produces a score of  0.71\n"
     ]
    },
    {
     "name": "stderr",
     "output_type": "stream",
     "text": [
      "/Users/kendrickvinar/anaconda/lib/python2.7/site-packages/sklearn/utils/validation.py:515: DataConversionWarning: A column-vector y was passed when a 1d array was expected. Please change the shape of y to (n_samples, ), for example using ravel().\n",
      "  y = column_or_1d(y, warn=True)\n",
      "/Users/kendrickvinar/anaconda/lib/python2.7/site-packages/sklearn/utils/validation.py:515: DataConversionWarning: A column-vector y was passed when a 1d array was expected. Please change the shape of y to (n_samples, ), for example using ravel().\n",
      "  y = column_or_1d(y, warn=True)\n",
      "/Users/kendrickvinar/anaconda/lib/python2.7/site-packages/sklearn/utils/validation.py:515: DataConversionWarning: A column-vector y was passed when a 1d array was expected. Please change the shape of y to (n_samples, ), for example using ravel().\n",
      "  y = column_or_1d(y, warn=True)\n",
      "/Users/kendrickvinar/anaconda/lib/python2.7/site-packages/sklearn/svm/base.py:514: DataConversionWarning: A column-vector y was passed when a 1d array was expected. Please change the shape of y to (n_samples, ), for example using ravel().\n",
      "  y_ = column_or_1d(y, warn=True)\n",
      "/Users/kendrickvinar/anaconda/lib/python2.7/site-packages/ipykernel/__main__.py:33: DataConversionWarning: A column-vector y was passed when a 1d array was expected. Please change the shape of y to (n_samples, ), for example using ravel().\n",
      "/Users/kendrickvinar/anaconda/lib/python2.7/site-packages/ipykernel/__main__.py:8: DataConversionWarning: A column-vector y was passed when a 1d array was expected. Please change the shape of y to (n_samples,), for example using ravel().\n"
     ]
    },
    {
     "name": "stdout",
     "output_type": "stream",
     "text": [
      "The RF classifier produces a score of  0.59\n",
      "The DT classifier produces a score of  0.69\n",
      "The LogReg classifier produces a score of  0.58\n",
      "The LDA classifier produces a score of  0.68\n",
      "The QDA classifier produces a score of  0.61\n",
      "The SVM classifier produces a score of  0.71\n",
      "The KNN classifier produces a score of  0.71\n"
     ]
    },
    {
     "name": "stderr",
     "output_type": "stream",
     "text": [
      "/Users/kendrickvinar/anaconda/lib/python2.7/site-packages/sklearn/utils/validation.py:515: DataConversionWarning: A column-vector y was passed when a 1d array was expected. Please change the shape of y to (n_samples, ), for example using ravel().\n",
      "  y = column_or_1d(y, warn=True)\n",
      "/Users/kendrickvinar/anaconda/lib/python2.7/site-packages/sklearn/utils/validation.py:515: DataConversionWarning: A column-vector y was passed when a 1d array was expected. Please change the shape of y to (n_samples, ), for example using ravel().\n",
      "  y = column_or_1d(y, warn=True)\n",
      "/Users/kendrickvinar/anaconda/lib/python2.7/site-packages/sklearn/utils/validation.py:515: DataConversionWarning: A column-vector y was passed when a 1d array was expected. Please change the shape of y to (n_samples, ), for example using ravel().\n",
      "  y = column_or_1d(y, warn=True)\n",
      "/Users/kendrickvinar/anaconda/lib/python2.7/site-packages/sklearn/svm/base.py:514: DataConversionWarning: A column-vector y was passed when a 1d array was expected. Please change the shape of y to (n_samples, ), for example using ravel().\n",
      "  y_ = column_or_1d(y, warn=True)\n",
      "/Users/kendrickvinar/anaconda/lib/python2.7/site-packages/ipykernel/__main__.py:33: DataConversionWarning: A column-vector y was passed when a 1d array was expected. Please change the shape of y to (n_samples, ), for example using ravel().\n",
      "/Users/kendrickvinar/anaconda/lib/python2.7/site-packages/ipykernel/__main__.py:8: DataConversionWarning: A column-vector y was passed when a 1d array was expected. Please change the shape of y to (n_samples,), for example using ravel().\n"
     ]
    },
    {
     "name": "stdout",
     "output_type": "stream",
     "text": [
      "The RF classifier produces a score of  0.66\n",
      "The DT classifier produces a score of  0.66\n",
      "The LogReg classifier produces a score of  0.57\n",
      "The LDA classifier produces a score of  0.67\n",
      "The QDA classifier produces a score of  0.6\n",
      "The SVM classifier produces a score of  0.71\n",
      "The KNN classifier produces a score of  0.73\n"
     ]
    },
    {
     "name": "stderr",
     "output_type": "stream",
     "text": [
      "/Users/kendrickvinar/anaconda/lib/python2.7/site-packages/sklearn/utils/validation.py:515: DataConversionWarning: A column-vector y was passed when a 1d array was expected. Please change the shape of y to (n_samples, ), for example using ravel().\n",
      "  y = column_or_1d(y, warn=True)\n",
      "/Users/kendrickvinar/anaconda/lib/python2.7/site-packages/sklearn/utils/validation.py:515: DataConversionWarning: A column-vector y was passed when a 1d array was expected. Please change the shape of y to (n_samples, ), for example using ravel().\n",
      "  y = column_or_1d(y, warn=True)\n",
      "/Users/kendrickvinar/anaconda/lib/python2.7/site-packages/sklearn/utils/validation.py:515: DataConversionWarning: A column-vector y was passed when a 1d array was expected. Please change the shape of y to (n_samples, ), for example using ravel().\n",
      "  y = column_or_1d(y, warn=True)\n",
      "/Users/kendrickvinar/anaconda/lib/python2.7/site-packages/sklearn/svm/base.py:514: DataConversionWarning: A column-vector y was passed when a 1d array was expected. Please change the shape of y to (n_samples, ), for example using ravel().\n",
      "  y_ = column_or_1d(y, warn=True)\n",
      "/Users/kendrickvinar/anaconda/lib/python2.7/site-packages/ipykernel/__main__.py:33: DataConversionWarning: A column-vector y was passed when a 1d array was expected. Please change the shape of y to (n_samples, ), for example using ravel().\n",
      "/Users/kendrickvinar/anaconda/lib/python2.7/site-packages/ipykernel/__main__.py:8: DataConversionWarning: A column-vector y was passed when a 1d array was expected. Please change the shape of y to (n_samples,), for example using ravel().\n"
     ]
    },
    {
     "name": "stdout",
     "output_type": "stream",
     "text": [
      "The RF classifier produces a score of  0.68\n",
      "The DT classifier produces a score of  0.66\n",
      "The LogReg classifier produces a score of  0.56\n",
      "The LDA classifier produces a score of  0.68\n",
      "The QDA classifier produces a score of  0.6\n",
      "The SVM classifier produces a score of  0.71\n",
      "The KNN classifier produces a score of  0.73\n"
     ]
    },
    {
     "name": "stderr",
     "output_type": "stream",
     "text": [
      "/Users/kendrickvinar/anaconda/lib/python2.7/site-packages/sklearn/utils/validation.py:515: DataConversionWarning: A column-vector y was passed when a 1d array was expected. Please change the shape of y to (n_samples, ), for example using ravel().\n",
      "  y = column_or_1d(y, warn=True)\n",
      "/Users/kendrickvinar/anaconda/lib/python2.7/site-packages/sklearn/utils/validation.py:515: DataConversionWarning: A column-vector y was passed when a 1d array was expected. Please change the shape of y to (n_samples, ), for example using ravel().\n",
      "  y = column_or_1d(y, warn=True)\n",
      "/Users/kendrickvinar/anaconda/lib/python2.7/site-packages/sklearn/utils/validation.py:515: DataConversionWarning: A column-vector y was passed when a 1d array was expected. Please change the shape of y to (n_samples, ), for example using ravel().\n",
      "  y = column_or_1d(y, warn=True)\n",
      "/Users/kendrickvinar/anaconda/lib/python2.7/site-packages/sklearn/svm/base.py:514: DataConversionWarning: A column-vector y was passed when a 1d array was expected. Please change the shape of y to (n_samples, ), for example using ravel().\n",
      "  y_ = column_or_1d(y, warn=True)\n",
      "/Users/kendrickvinar/anaconda/lib/python2.7/site-packages/ipykernel/__main__.py:33: DataConversionWarning: A column-vector y was passed when a 1d array was expected. Please change the shape of y to (n_samples, ), for example using ravel().\n",
      "/Users/kendrickvinar/anaconda/lib/python2.7/site-packages/ipykernel/__main__.py:8: DataConversionWarning: A column-vector y was passed when a 1d array was expected. Please change the shape of y to (n_samples,), for example using ravel().\n"
     ]
    },
    {
     "name": "stdout",
     "output_type": "stream",
     "text": [
      "The RF classifier produces a score of  0.63\n",
      "The DT classifier produces a score of  0.71\n",
      "The LogReg classifier produces a score of  0.56\n",
      "The LDA classifier produces a score of  0.68\n",
      "The QDA classifier produces a score of  0.6\n",
      "The SVM classifier produces a score of  0.71\n",
      "The KNN classifier produces a score of  0.72\n"
     ]
    },
    {
     "name": "stderr",
     "output_type": "stream",
     "text": [
      "/Users/kendrickvinar/anaconda/lib/python2.7/site-packages/sklearn/utils/validation.py:515: DataConversionWarning: A column-vector y was passed when a 1d array was expected. Please change the shape of y to (n_samples, ), for example using ravel().\n",
      "  y = column_or_1d(y, warn=True)\n",
      "/Users/kendrickvinar/anaconda/lib/python2.7/site-packages/sklearn/utils/validation.py:515: DataConversionWarning: A column-vector y was passed when a 1d array was expected. Please change the shape of y to (n_samples, ), for example using ravel().\n",
      "  y = column_or_1d(y, warn=True)\n",
      "/Users/kendrickvinar/anaconda/lib/python2.7/site-packages/sklearn/utils/validation.py:515: DataConversionWarning: A column-vector y was passed when a 1d array was expected. Please change the shape of y to (n_samples, ), for example using ravel().\n",
      "  y = column_or_1d(y, warn=True)\n",
      "/Users/kendrickvinar/anaconda/lib/python2.7/site-packages/sklearn/svm/base.py:514: DataConversionWarning: A column-vector y was passed when a 1d array was expected. Please change the shape of y to (n_samples, ), for example using ravel().\n",
      "  y_ = column_or_1d(y, warn=True)\n",
      "/Users/kendrickvinar/anaconda/lib/python2.7/site-packages/ipykernel/__main__.py:33: DataConversionWarning: A column-vector y was passed when a 1d array was expected. Please change the shape of y to (n_samples, ), for example using ravel().\n"
     ]
    }
   ],
   "source": [
    "for i in range(1,10):\n",
    "    pca = PCA(n_components = i)\n",
    "    pca.fit(x_train_int)\n",
    "    x_train_reduced = pca.transform(x_train_int)\n",
    "    x_test_reduced = pca.transform(x_test_int)\n",
    "    \n",
    "    rf = ensemble.RandomForestClassifier()\n",
    "    rf.fit(x_train_int,y_train_val)\n",
    "    print \"The RF classifier produces a score of \", round(rf.score(x_test_int, y_test_val),2)\n",
    "\n",
    "    dt = tree.DecisionTreeClassifier()\n",
    "    dt.fit(x_train_reduced, y_train_val)\n",
    "    print \"The DT classifier produces a score of \", round(dt.score(x_test_reduced, y_test_val),2)\n",
    "\n",
    "    logistic_balanced = LogisticRegression(C = .01, class_weight=\"balanced\")\n",
    "    logistic_balanced.fit(x_train_reduced, y_train_val)\n",
    "    print \"The LogReg classifier produces a score of \", round(logistic_balanced.score(x_test_reduced, y_test_val),2)\n",
    "\n",
    "    lda = discriminant_analysis.LinearDiscriminantAnalysis()\n",
    "    lda.fit(x_train_reduced, y_train_val)\n",
    "    print \"The LDA classifier produces a score of \", round(lda.score(x_test_reduced, y_test_val),2)\n",
    "\n",
    "    qda = discriminant_analysis.QuadraticDiscriminantAnalysis()\n",
    "    qda.fit(x_train_reduced, y_train_val)\n",
    "    print \"The QDA classifier produces a score of \", round(qda.score(x_test_reduced, y_test_val),2)\n",
    "\n",
    "    # Fit SVM model \n",
    "    svm_model = svm.SVC()\n",
    "    svm_model.fit(x_train_reduced, y_train_val)\n",
    "    print \"The SVM classifier produces a score of \", round(svm_model.score(x_test_reduced, y_test_val),2)\n",
    "\n",
    "    neighbors = KNN(4)\n",
    "    neighbors.fit(x_train_reduced, y_train_val)\n",
    "    print \"The KNN classifier produces a score of \", round(neighbors.score(x_test_reduced, y_test_val),2)\n",
    "\n",
    "\n"
   ]
  },
  {
   "cell_type": "code",
   "execution_count": null,
   "metadata": {
    "collapsed": true
   },
   "outputs": [],
   "source": []
  }
 ],
 "metadata": {
  "anaconda-cloud": {},
  "kernelspec": {
   "display_name": "Python [Root]",
   "language": "python",
   "name": "Python [Root]"
  },
  "language_info": {
   "codemirror_mode": {
    "name": "ipython",
    "version": 2
   },
   "file_extension": ".py",
   "mimetype": "text/x-python",
   "name": "python",
   "nbconvert_exporter": "python",
   "pygments_lexer": "ipython2",
   "version": "2.7.12"
  }
 },
 "nbformat": 4,
 "nbformat_minor": 0
}
